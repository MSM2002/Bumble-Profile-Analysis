{
 "cells": [
  {
   "cell_type": "markdown",
   "metadata": {},
   "source": [
    "# Analysing Bumble Profiles using Python"
   ]
  },
  {
   "cell_type": "markdown",
   "metadata": {},
   "source": [
    "## Dataset"
   ]
  },
  {
   "cell_type": "markdown",
   "metadata": {},
   "source": [
    "The dataset is available from the [bumble.csv](bumble.csv) file. The following columns are in the dataset:\n",
    "1. `age`: Age of the user.\n",
    "2. `status`: Relationship status (e.g., single, married, seeing someone).\n",
    "3. `gender`: Gender of the user (e.g., m, f).\n",
    "4. `body_type`: Descriptions of physical appearance (e.g., athletic, curvy, thin).\n",
    "5. `diet`: Dietary preferences (e.g., vegetarian, vegan, anything).\n",
    "6. `drinks`: Drinking habits (e.g., socially, often).\n",
    "7. `education`: Education level (e.g., college, masters).\n",
    "8. `ethnicity`: Ethnicity of the user (e.g., white, asian, black).\n",
    "9. `height`: Height of the user (in inches).\n",
    "10. `income`: User-reported annual income.\n",
    "11. `job`: Job sector of the user (e.g., sales, marketing, student)\n",
    "12. `last_online`: Date and time when the user was last active.\n",
    "13. `location`: City and state where the user resides.\n",
    "14. `pets`: Pet preference of the user (e.g.,likes cats, has dogs)\n",
    "15. `religion`: Religion of the user.\n",
    "16. `sign`: Star sign of the user.\n",
    "17. `speaks`: Languages the user speaks."
   ]
  },
  {
   "cell_type": "markdown",
   "metadata": {},
   "source": [
    "## Part 1: Data Cleaning"
   ]
  },
  {
   "cell_type": "markdown",
   "metadata": {},
   "source": [
    "### 1. Inspecting Missing Data"
   ]
  },
  {
   "cell_type": "markdown",
   "metadata": {},
   "source": [
    "Missing data is a common issue in real-world datasets. On a platform like Bumble, missing user information might reflect gaps in the user profile setup process, incomplete data collection, or users intentionally leaving certain fields blank.\n",
    "\n",
    "Now we need to assess the extent of missing data, understand its potential impact, and decide the most appropriate methods to address it.\n",
    "\n",
    "First, we will need to load the dataset from the CSV file into a Pandas Dataframe.\n",
    "\n",
    "Before we can write the python code, we would need to install the `pandas` and `numpy` libraries by running the following command in your terminal (Bash for Linux users and Powershell for Windows users). Make sure that Python is in your PATH."
   ]
  },
  {
   "cell_type": "code",
   "execution_count": 1,
   "metadata": {
    "vscode": {
     "languageId": "powershell"
    }
   },
   "outputs": [
    {
     "name": "stdout",
     "output_type": "stream",
     "text": [
      "Requirement already satisfied: pandas in d:\\program files\\python313\\lib\\site-packages (2.2.3)\n",
      "Requirement already satisfied: numpy in d:\\program files\\python313\\lib\\site-packages (2.2.4)\n",
      "Requirement already satisfied: python-dateutil>=2.8.2 in d:\\program files\\python313\\lib\\site-packages (from pandas) (2.9.0.post0)\n",
      "Requirement already satisfied: pytz>=2020.1 in d:\\program files\\python313\\lib\\site-packages (from pandas) (2025.2)\n",
      "Requirement already satisfied: tzdata>=2022.7 in d:\\program files\\python313\\lib\\site-packages (from pandas) (2025.2)\n",
      "Requirement already satisfied: six>=1.5 in d:\\program files\\python313\\lib\\site-packages (from python-dateutil>=2.8.2->pandas) (1.17.0)\n",
      "Note: you may need to restart the kernel to use updated packages.\n"
     ]
    }
   ],
   "source": [
    "pip install pandas numpy"
   ]
  },
  {
   "cell_type": "markdown",
   "metadata": {},
   "source": [
    "Once, `pandas` is successfully installed, run the following python code snippet to load the CSV file into a Pandas Dataframe."
   ]
  },
  {
   "cell_type": "code",
   "execution_count": 3,
   "metadata": {},
   "outputs": [
    {
     "data": {
      "text/html": [
       "<div>\n",
       "<style scoped>\n",
       "    .dataframe tbody tr th:only-of-type {\n",
       "        vertical-align: middle;\n",
       "    }\n",
       "\n",
       "    .dataframe tbody tr th {\n",
       "        vertical-align: top;\n",
       "    }\n",
       "\n",
       "    .dataframe thead th {\n",
       "        text-align: right;\n",
       "    }\n",
       "</style>\n",
       "<table border=\"1\" class=\"dataframe\">\n",
       "  <thead>\n",
       "    <tr style=\"text-align: right;\">\n",
       "      <th></th>\n",
       "      <th>age</th>\n",
       "      <th>status</th>\n",
       "      <th>gender</th>\n",
       "      <th>body_type</th>\n",
       "      <th>diet</th>\n",
       "      <th>drinks</th>\n",
       "      <th>education</th>\n",
       "      <th>ethnicity</th>\n",
       "      <th>height</th>\n",
       "      <th>income</th>\n",
       "      <th>job</th>\n",
       "      <th>last_online</th>\n",
       "      <th>location</th>\n",
       "      <th>pets</th>\n",
       "      <th>religion</th>\n",
       "      <th>sign</th>\n",
       "      <th>speaks</th>\n",
       "    </tr>\n",
       "  </thead>\n",
       "  <tbody>\n",
       "    <tr>\n",
       "      <th>0</th>\n",
       "      <td>22</td>\n",
       "      <td>single</td>\n",
       "      <td>m</td>\n",
       "      <td>a little extra</td>\n",
       "      <td>strictly anything</td>\n",
       "      <td>socially</td>\n",
       "      <td>working on college/university</td>\n",
       "      <td>asian, white</td>\n",
       "      <td>75.0</td>\n",
       "      <td>-1</td>\n",
       "      <td>transportation</td>\n",
       "      <td>2012-06-28-20-30</td>\n",
       "      <td>south san francisco, california</td>\n",
       "      <td>likes dogs and likes cats</td>\n",
       "      <td>agnosticism and very serious about it</td>\n",
       "      <td>gemini</td>\n",
       "      <td>english</td>\n",
       "    </tr>\n",
       "    <tr>\n",
       "      <th>1</th>\n",
       "      <td>35</td>\n",
       "      <td>single</td>\n",
       "      <td>m</td>\n",
       "      <td>average</td>\n",
       "      <td>mostly other</td>\n",
       "      <td>often</td>\n",
       "      <td>working on space camp</td>\n",
       "      <td>white</td>\n",
       "      <td>70.0</td>\n",
       "      <td>80000</td>\n",
       "      <td>hospitality / travel</td>\n",
       "      <td>2012-06-29-21-41</td>\n",
       "      <td>oakland, california</td>\n",
       "      <td>likes dogs and likes cats</td>\n",
       "      <td>agnosticism but not too serious about it</td>\n",
       "      <td>cancer</td>\n",
       "      <td>english (fluently), spanish (poorly), french (...</td>\n",
       "    </tr>\n",
       "    <tr>\n",
       "      <th>2</th>\n",
       "      <td>38</td>\n",
       "      <td>available</td>\n",
       "      <td>m</td>\n",
       "      <td>thin</td>\n",
       "      <td>anything</td>\n",
       "      <td>socially</td>\n",
       "      <td>graduated from masters program</td>\n",
       "      <td>NaN</td>\n",
       "      <td>68.0</td>\n",
       "      <td>-1</td>\n",
       "      <td>NaN</td>\n",
       "      <td>2012-06-27-09-10</td>\n",
       "      <td>san francisco, california</td>\n",
       "      <td>has cats</td>\n",
       "      <td>NaN</td>\n",
       "      <td>pisces but it doesn&amp;rsquo;t matter</td>\n",
       "      <td>english, french, c++</td>\n",
       "    </tr>\n",
       "    <tr>\n",
       "      <th>3</th>\n",
       "      <td>23</td>\n",
       "      <td>single</td>\n",
       "      <td>m</td>\n",
       "      <td>thin</td>\n",
       "      <td>vegetarian</td>\n",
       "      <td>socially</td>\n",
       "      <td>working on college/university</td>\n",
       "      <td>white</td>\n",
       "      <td>71.0</td>\n",
       "      <td>20000</td>\n",
       "      <td>student</td>\n",
       "      <td>2012-06-28-14-22</td>\n",
       "      <td>berkeley, california</td>\n",
       "      <td>likes cats</td>\n",
       "      <td>NaN</td>\n",
       "      <td>pisces</td>\n",
       "      <td>english, german (poorly)</td>\n",
       "    </tr>\n",
       "    <tr>\n",
       "      <th>4</th>\n",
       "      <td>29</td>\n",
       "      <td>single</td>\n",
       "      <td>m</td>\n",
       "      <td>athletic</td>\n",
       "      <td>NaN</td>\n",
       "      <td>socially</td>\n",
       "      <td>graduated from college/university</td>\n",
       "      <td>asian, black, other</td>\n",
       "      <td>66.0</td>\n",
       "      <td>-1</td>\n",
       "      <td>artistic / musical / writer</td>\n",
       "      <td>2012-06-27-21-26</td>\n",
       "      <td>san francisco, california</td>\n",
       "      <td>likes dogs and likes cats</td>\n",
       "      <td>NaN</td>\n",
       "      <td>aquarius</td>\n",
       "      <td>english</td>\n",
       "    </tr>\n",
       "  </tbody>\n",
       "</table>\n",
       "</div>"
      ],
      "text/plain": [
       "   age     status gender       body_type               diet    drinks  \\\n",
       "0   22     single      m  a little extra  strictly anything  socially   \n",
       "1   35     single      m         average       mostly other     often   \n",
       "2   38  available      m            thin           anything  socially   \n",
       "3   23     single      m            thin         vegetarian  socially   \n",
       "4   29     single      m        athletic                NaN  socially   \n",
       "\n",
       "                           education            ethnicity  height  income  \\\n",
       "0      working on college/university         asian, white    75.0      -1   \n",
       "1              working on space camp                white    70.0   80000   \n",
       "2     graduated from masters program                  NaN    68.0      -1   \n",
       "3      working on college/university                white    71.0   20000   \n",
       "4  graduated from college/university  asian, black, other    66.0      -1   \n",
       "\n",
       "                           job       last_online  \\\n",
       "0               transportation  2012-06-28-20-30   \n",
       "1         hospitality / travel  2012-06-29-21-41   \n",
       "2                          NaN  2012-06-27-09-10   \n",
       "3                      student  2012-06-28-14-22   \n",
       "4  artistic / musical / writer  2012-06-27-21-26   \n",
       "\n",
       "                          location                       pets  \\\n",
       "0  south san francisco, california  likes dogs and likes cats   \n",
       "1              oakland, california  likes dogs and likes cats   \n",
       "2        san francisco, california                   has cats   \n",
       "3             berkeley, california                 likes cats   \n",
       "4        san francisco, california  likes dogs and likes cats   \n",
       "\n",
       "                                   religion  \\\n",
       "0     agnosticism and very serious about it   \n",
       "1  agnosticism but not too serious about it   \n",
       "2                                       NaN   \n",
       "3                                       NaN   \n",
       "4                                       NaN   \n",
       "\n",
       "                                 sign  \\\n",
       "0                              gemini   \n",
       "1                              cancer   \n",
       "2  pisces but it doesn&rsquo;t matter   \n",
       "3                              pisces   \n",
       "4                            aquarius   \n",
       "\n",
       "                                              speaks  \n",
       "0                                            english  \n",
       "1  english (fluently), spanish (poorly), french (...  \n",
       "2                               english, french, c++  \n",
       "3                           english, german (poorly)  \n",
       "4                                            english  "
      ]
     },
     "execution_count": 3,
     "metadata": {},
     "output_type": "execute_result"
    }
   ],
   "source": [
    "import pandas as pd\n",
    "import numpy as np\n",
    "\n",
    "df = pd.read_csv(\"bumble.csv\")\n",
    "df.head()"
   ]
  },
  {
   "cell_type": "markdown",
   "metadata": {},
   "source": [
    "As part of the analysis, certain questions need to answered. For each question, we will use Python to solve it."
   ]
  },
  {
   "cell_type": "markdown",
   "metadata": {},
   "source": [
    "#### Questions:"
   ]
  },
  {
   "cell_type": "markdown",
   "metadata": {},
   "source": [
    "##### 1. Which columns in the dataset have missing values, and what percentage of data is missing in each column?\n",
    "\n"
   ]
  },
  {
   "cell_type": "markdown",
   "metadata": {},
   "source": [
    "To find out which columns have missing values, we will use the `isnull()` and `any()` functions of Pandas by running the following Python snippet. The snippet will return the column name and `True` or `False`. `True` means there are missing values present in the column and `False` means that there are no missing values in the column."
   ]
  },
  {
   "cell_type": "code",
   "execution_count": 6,
   "metadata": {},
   "outputs": [
    {
     "name": "stdout",
     "output_type": "stream",
     "text": [
      "age            False\n",
      "status         False\n",
      "gender         False\n",
      "body_type       True\n",
      "diet            True\n",
      "drinks          True\n",
      "education       True\n",
      "ethnicity       True\n",
      "height          True\n",
      "income         False\n",
      "job             True\n",
      "last_online    False\n",
      "location       False\n",
      "pets            True\n",
      "religion        True\n",
      "sign            True\n",
      "speaks          True\n",
      "dtype: bool\n"
     ]
    }
   ],
   "source": [
    "print(df.isnull().any())"
   ]
  },
  {
   "cell_type": "markdown",
   "metadata": {},
   "source": [
    "To find out the percentage of null values in each column we will use the `isnull()` function to check if a particular value is null or not, and then to count of them, we will use the `sum()` function. Finally, to obtain a percentage, the sum will be divided by the number of rows of the column which can be found by using the `shape[]` function and multiplying it by 100. Run the following Python snippet to find the percentage of nulls in each column."
   ]
  },
  {
   "cell_type": "code",
   "execution_count": 14,
   "metadata": {},
   "outputs": [
    {
     "name": "stdout",
     "output_type": "stream",
     "text": [
      "age             0.00\n",
      "status          0.00\n",
      "gender          0.00\n",
      "body_type       8.83\n",
      "diet           40.69\n",
      "drinks          4.98\n",
      "education      11.06\n",
      "ethnicity       9.48\n",
      "height          0.01\n",
      "income          0.00\n",
      "job            13.68\n",
      "last_online     0.00\n",
      "location        0.00\n",
      "pets           33.23\n",
      "religion       33.74\n",
      "sign           18.44\n",
      "speaks          0.08\n",
      "dtype: float64\n"
     ]
    }
   ],
   "source": [
    "print(round(df.isnull().sum()/df.shape[0]*100,2))"
   ]
  },
  {
   "cell_type": "markdown",
   "metadata": {},
   "source": [
    "##### 2. Are there columns where more than 50% of the data is missing? Would you drop those columns where missing values are >50%. If yes, why?"
   ]
  },
  {
   "cell_type": "markdown",
   "metadata": {},
   "source": [
    "To check if any column has more than 50% null values, run the following Python snippet. It will return:\n",
    "-  `True` if there are more than 50% nulls in the column\n",
    "- `False` if there are not more than 50% nulls in the column "
   ]
  },
  {
   "cell_type": "code",
   "execution_count": 15,
   "metadata": {},
   "outputs": [
    {
     "name": "stdout",
     "output_type": "stream",
     "text": [
      "age            False\n",
      "status         False\n",
      "gender         False\n",
      "body_type      False\n",
      "diet           False\n",
      "drinks         False\n",
      "education      False\n",
      "ethnicity      False\n",
      "height         False\n",
      "income         False\n",
      "job            False\n",
      "last_online    False\n",
      "location       False\n",
      "pets           False\n",
      "religion       False\n",
      "sign           False\n",
      "speaks         False\n",
      "dtype: bool\n"
     ]
    }
   ],
   "source": [
    "print(df.isnull().sum()/df.shape[0]*100 > 50)"
   ]
  },
  {
   "cell_type": "markdown",
   "metadata": {},
   "source": [
    "None of the columns have more than 50% of null values."
   ]
  },
  {
   "cell_type": "markdown",
   "metadata": {},
   "source": [
    "##### 3. How would you handle the missing numerical data (e.g., `height`, `income`)? Would you impute the missing data by the median or average value of `height` and `income` for the corresponding category, such as `gender`, `age` group, or `location`. If yes, why?"
   ]
  },
  {
   "cell_type": "markdown",
   "metadata": {},
   "source": [
    "To decide on whether to impute missing numerical data like `height` and `income` with mean or median, we need to find out the distribution of both columns. \n",
    " - For `height` we can consider data from the `gender` category as different genders will have different middle heights. \n",
    "\n",
    "To check whether mean or median is to be used for `height`, we will calculate the skewness of it grouped by `gender`: "
   ]
  },
  {
   "cell_type": "code",
   "execution_count": 5,
   "metadata": {},
   "outputs": [
    {
     "name": "stdout",
     "output_type": "stream",
     "text": [
      "gender\n",
      "f   -0.696659\n",
      "m   -1.081008\n",
      "Name: height, dtype: float64\n",
      "          count       mean       std  min   25%   50%   75%   max\n",
      "gender                                                           \n",
      "f       24116.0  65.103873  2.926502  4.0  63.0  65.0  67.0  95.0\n",
      "m       35827.0  70.443492  3.076521  1.0  68.0  70.0  72.0  95.0\n"
     ]
    }
   ],
   "source": [
    "height_skew_by_gender = df.groupby('gender')['height'].skew()\n",
    "print(height_skew_by_gender)\n",
    "\n",
    "height_desc_by_gender = df.groupby('gender')['height'].describe()\n",
    "print(height_desc_by_gender)"
   ]
  },
  {
   "cell_type": "markdown",
   "metadata": {},
   "source": [
    "From calculating skewness and looking at the description of `height` when grouped by `gender`, it is visible that `height` is moderately skewed for females and heavily skewed for males. Also, the minimum and maximum values for `height` are both very unrealistic, so it would be safer to impute it using median.\n",
    "\n",
    "For imputing missing values of `income` is more complex as it is dependent on many factors such as `age`, `ethnicity`, `education`, `job` and `location`. Since there are multiple plausible factors to predict income, there may not be enough data points to make a meaningful imputation based on mean or median.\n",
    "\n",
    "But generally, it is not advised to impute values if the upcoming analysis isn't susceptible to them."
   ]
  },
  {
   "cell_type": "markdown",
   "metadata": {},
   "source": [
    "### 2. Data Types"
   ]
  },
  {
   "cell_type": "markdown",
   "metadata": {},
   "source": [
    "Accurate data types are critical for meaningful analysis and visualization. For example, numeric fields like `income` or `height` must be stored as numbers for statistical computations, while dates like `last_online` must be converted to datetime format for time-based calculations."
   ]
  },
  {
   "cell_type": "markdown",
   "metadata": {},
   "source": [
    "#### Questions:"
   ]
  },
  {
   "cell_type": "markdown",
   "metadata": {},
   "source": [
    "##### 1. Are there any inconsistencies in the data types across columns (e.g., numerical data stored as strings)?"
   ]
  },
  {
   "cell_type": "markdown",
   "metadata": {},
   "source": [
    "To check the data types of columns we would need to use the `dtypes` method."
   ]
  },
  {
   "cell_type": "code",
   "execution_count": 7,
   "metadata": {},
   "outputs": [
    {
     "data": {
      "text/plain": [
       "age              int64\n",
       "status          object\n",
       "gender          object\n",
       "body_type       object\n",
       "diet            object\n",
       "drinks          object\n",
       "education       object\n",
       "ethnicity       object\n",
       "height         float64\n",
       "income           int64\n",
       "job             object\n",
       "last_online     object\n",
       "location        object\n",
       "pets            object\n",
       "religion        object\n",
       "sign            object\n",
       "speaks          object\n",
       "dtype: object"
      ]
     },
     "execution_count": 7,
     "metadata": {},
     "output_type": "execute_result"
    }
   ],
   "source": [
    "df.dtypes"
   ]
  },
  {
   "cell_type": "markdown",
   "metadata": {},
   "source": [
    "So from the above output we can see that most columns are consistent with their data types except for a few:\n",
    "- `last_online` : It should be a datetime format"
   ]
  }
 ],
 "metadata": {
  "kernelspec": {
   "display_name": "Python 3",
   "language": "python",
   "name": "python3"
  },
  "language_info": {
   "codemirror_mode": {
    "name": "ipython",
    "version": 3
   },
   "file_extension": ".py",
   "mimetype": "text/x-python",
   "name": "python",
   "nbconvert_exporter": "python",
   "pygments_lexer": "ipython3",
   "version": "3.13.2"
  }
 },
 "nbformat": 4,
 "nbformat_minor": 2
}
