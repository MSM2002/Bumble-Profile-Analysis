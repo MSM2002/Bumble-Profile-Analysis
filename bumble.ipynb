{
 "cells": [
  {
   "cell_type": "markdown",
   "metadata": {},
   "source": [
    "# Analysing Bumble Profiles using Python"
   ]
  },
  {
   "cell_type": "markdown",
   "metadata": {},
   "source": [
    "## Dataset"
   ]
  },
  {
   "cell_type": "markdown",
   "metadata": {},
   "source": [
    "The dataset is available from the [bumble.csv](bumble.csv) file. The following columns are in the dataset:\n",
    "1. `age`: Age of the user.\n",
    "2. `status`: Relationship status (e.g., single, married, seeing someone).\n",
    "3. `gender`: Gender of the user (e.g., m, f).\n",
    "4. `body_type`: Descriptions of physical appearance (e.g., athletic, curvy, thin).\n",
    "5. `diet`: Dietary preferences (e.g., vegetarian, vegan, anything).\n",
    "6. `drinks`: Drinking habits (e.g., socially, often).\n",
    "7. `education`: Education level (e.g., college, masters).\n",
    "8. `ethnicity`: Ethnicity of the user (e.g., white, asian, black).\n",
    "9. `height`: Height of the user (in inches).\n",
    "10. `income`: User-reported annual income.\n",
    "11. `job`: Job sector of the user (e.g., sales, marketing, student)\n",
    "12. `last_online`: Date and time when the user was last active.\n",
    "13. `location`: City and state where the user resides.\n",
    "14. `pets`: Pet preference of the user (e.g.,likes cats, has dogs)\n",
    "15. `religion`: Religion of the user.\n",
    "16. `sign`: Star sign of the user.\n",
    "17. `speaks`: Languages the user speaks."
   ]
  },
  {
   "cell_type": "markdown",
   "metadata": {},
   "source": [
    "## Part 1: Data Cleaning"
   ]
  },
  {
   "cell_type": "markdown",
   "metadata": {},
   "source": [
    "### 1. Inspecting Missing Data"
   ]
  },
  {
   "cell_type": "markdown",
   "metadata": {},
   "source": [
    "Missing data is a common issue in real-world datasets. On a platform like Bumble, missing user information might reflect gaps in the user profile setup process, incomplete data collection, or users intentionally leaving certain fields blank.\n",
    "\n",
    "Now we need to assess the extent of missing data, understand its potential impact, and decide the most appropriate methods to address it.\n",
    "\n",
    "First, we will need to load the dataset from the CSV file into a Pandas Dataframe.\n",
    "\n",
    "Before we can write the python code, we would need to install the `pandas` library by running the following command in your terminal (Bash for Linux users and Powershell for Windows users). Make sure that Python is in your PATH."
   ]
  },
  {
   "cell_type": "code",
   "execution_count": null,
   "metadata": {
    "vscode": {
     "languageId": "powershell"
    }
   },
   "outputs": [],
   "source": [
    "pip install pandas"
   ]
  },
  {
   "cell_type": "markdown",
   "metadata": {},
   "source": [
    "Once, `pandas` is successfully installed, run the following python code snippet to load the CSV file into a Pandas Dataframe."
   ]
  },
  {
   "cell_type": "code",
   "execution_count": null,
   "metadata": {},
   "outputs": [],
   "source": [
    "import pandas as pd\n",
    "\n",
    "df = pd.read_csv(\"bumble.csv\")\n",
    "df.head()"
   ]
  },
  {
   "cell_type": "markdown",
   "metadata": {},
   "source": [
    "As part of the analysis, certain questions need to answered. For each question, we will use Python to solve it."
   ]
  },
  {
   "cell_type": "markdown",
   "metadata": {},
   "source": [
    "#### Questions:"
   ]
  },
  {
   "cell_type": "markdown",
   "metadata": {},
   "source": [
    "##### 1. Which columns in the dataset have missing values, and what percentage of data is missing in each column?\n",
    "\n"
   ]
  },
  {
   "cell_type": "markdown",
   "metadata": {},
   "source": [
    "To find out which columns have missing values, we will use the `isnull()` and `any()` functions of Pandas by running the following Python snippet. The snippet will return the column name and `True` or `False`. `True` means there are missing values present in the column and `False` means that there are no missing values in the column."
   ]
  },
  {
   "cell_type": "code",
   "execution_count": 6,
   "metadata": {},
   "outputs": [
    {
     "name": "stdout",
     "output_type": "stream",
     "text": [
      "age            False\n",
      "status         False\n",
      "gender         False\n",
      "body_type       True\n",
      "diet            True\n",
      "drinks          True\n",
      "education       True\n",
      "ethnicity       True\n",
      "height          True\n",
      "income         False\n",
      "job             True\n",
      "last_online    False\n",
      "location       False\n",
      "pets            True\n",
      "religion        True\n",
      "sign            True\n",
      "speaks          True\n",
      "dtype: bool\n"
     ]
    }
   ],
   "source": [
    "print(df.isnull().any())"
   ]
  },
  {
   "cell_type": "markdown",
   "metadata": {},
   "source": [
    "To find out the percentage of null values in each column we will use the `isnull()` function to check if a particular value is null or not, and then to count of them, we will use the `sum()` function. Finally, to obtain a percentage, the sum will be divided by the number of rows of the column which can be found by using the `shape[]` function and multiplying it by 100. Run the following Python snippet to find the percentage of nulls in each column."
   ]
  },
  {
   "cell_type": "code",
   "execution_count": 14,
   "metadata": {},
   "outputs": [
    {
     "name": "stdout",
     "output_type": "stream",
     "text": [
      "age             0.00\n",
      "status          0.00\n",
      "gender          0.00\n",
      "body_type       8.83\n",
      "diet           40.69\n",
      "drinks          4.98\n",
      "education      11.06\n",
      "ethnicity       9.48\n",
      "height          0.01\n",
      "income          0.00\n",
      "job            13.68\n",
      "last_online     0.00\n",
      "location        0.00\n",
      "pets           33.23\n",
      "religion       33.74\n",
      "sign           18.44\n",
      "speaks          0.08\n",
      "dtype: float64\n"
     ]
    }
   ],
   "source": [
    "print(round(df.isnull().sum()/df.shape[0]*100,2))"
   ]
  },
  {
   "cell_type": "markdown",
   "metadata": {},
   "source": [
    "##### 2. Are there columns where more than 50% of the data is missing? Would you drop those columns where missing values are >50%. If yes, why?"
   ]
  },
  {
   "cell_type": "markdown",
   "metadata": {},
   "source": [
    "To check if any column has more than 50% null values, run the following Python snippet. It will return:\n",
    "-  `True` if there are more than 50% nulls in the column\n",
    "- `False` if there are not more than 50% nulls in the column "
   ]
  },
  {
   "cell_type": "code",
   "execution_count": 15,
   "metadata": {},
   "outputs": [
    {
     "name": "stdout",
     "output_type": "stream",
     "text": [
      "age            False\n",
      "status         False\n",
      "gender         False\n",
      "body_type      False\n",
      "diet           False\n",
      "drinks         False\n",
      "education      False\n",
      "ethnicity      False\n",
      "height         False\n",
      "income         False\n",
      "job            False\n",
      "last_online    False\n",
      "location       False\n",
      "pets           False\n",
      "religion       False\n",
      "sign           False\n",
      "speaks         False\n",
      "dtype: bool\n"
     ]
    }
   ],
   "source": [
    "print(df.isnull().sum()/df.shape[0]*100 > 50)"
   ]
  },
  {
   "cell_type": "markdown",
   "metadata": {},
   "source": [
    "None of the columns have more than 50% of null values."
   ]
  }
 ],
 "metadata": {
  "kernelspec": {
   "display_name": "Python 3",
   "language": "python",
   "name": "python3"
  },
  "language_info": {
   "codemirror_mode": {
    "name": "ipython",
    "version": 3
   },
   "file_extension": ".py",
   "mimetype": "text/x-python",
   "name": "python",
   "nbconvert_exporter": "python",
   "pygments_lexer": "ipython3",
   "version": "3.13.2"
  }
 },
 "nbformat": 4,
 "nbformat_minor": 2
}
